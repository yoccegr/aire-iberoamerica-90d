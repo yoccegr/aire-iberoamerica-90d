{
  "cells": [
    {
      "cell_type": "markdown",
      "metadata": {},
      "source": [
        "# PM2.5 en 4 ciudades iberoamericanas — Mapa (estático y animado) + Línea temporal\n",
        "\n",
        "Este notebook genera las dos visualizaciones propuestas:\n",
        "1. **Mapa interactivo con burbujas** (estático y **animado por día**).\n",
        "2. **Línea temporal por ciudad** con banda guía de la OMS.\n",
        "\n",
        "**Dataset**: `../data/pm25_90d_daily.csv` (promedio diario por ciudad, incluye `lat` y `lon`).\n",
        "\n",
        "> Sugerencia para el post de Instagram: usa el mapa animado como video/gif y la línea temporal como imagen con anotaciones."
      ]
    },
    {
      "cell_type": "markdown",
      "metadata": {},
      "source": [
        "## 0) Cargar datos"
      ]
    },
    {
      "cell_type": "code",
      "metadata": {},
      "execution_count": null,
      "outputs": [],
      "source": [
        "import pandas as pd\n",
        "import plotly.express as px\n",
        "\n",
        "# Cargar dataset diario\n",
        "df = pd.read_csv(\"../data/pm25_90d_daily.csv\", parse_dates=[\"date\"])\n",
        "\n",
        "# Sanidad mínima\n",
        "assert {\"city\",\"date\",\"pm25\",\"lat\",\"lon\"}.issubset(df.columns), \"Faltan columnas requeridas.\"\n",
        "\n",
        "# Ordenar por fecha por prolijidad\n",
        "df = df.sort_values(\"date\").reset_index(drop=True)\n",
        "\n",
        "df.head()"
      ]
    },
    {
      "cell_type": "markdown",
      "metadata": {},
      "source": [
        "## 1) Mapa interactivo (estático) — Promedio del período por ciudad"
      ]
    },
    {
      "cell_type": "code",
      "metadata": {},
      "execution_count": null,
      "outputs": [],
      "source": [
        "# Promedio del período y coordenadas representativas (mediana)\n",
        "mean_by_city = (df.groupby('city', as_index=False)\n",
        "                  .agg(pm25_mean=('pm25','mean'),\n",
        "                       lat=('lat','median'),\n",
        "                       lon=('lon','median')))\n",
        "\n",
        "fig_map = px.scatter_geo(\n",
        "    mean_by_city,\n",
        "    lat=\"lat\", lon=\"lon\",\n",
        "    size=\"pm25_mean\", color=\"pm25_mean\",\n",
        "    hover_name=\"city\",\n",
        "    projection=\"natural earth\",\n",
        "    title=\"PM2.5 promedio (últimos 90 días) — por ciudad\",\n",
        ")\n",
        "fig_map.update_traces(marker=dict(opacity=0.9))\n",
        "fig_map.update_layout(legend_title_text=\"PM2.5 (µg/m³)\")\n",
        "fig_map.show()\n",
        "\n",
        "# Exportar a HTML para compartir/hostear\n",
        "fig_map.write_html(\"../data/mapa_pm25_promedio.html\", include_plotlyjs=\"cdn\")\n",
        "print(\"Exportado: ../data/mapa_pm25_promedio.html\")"
      ]
    },
    {
      "cell_type": "markdown",
      "metadata": {},
      "source": [
        "## 2) Mapa interactivo **animado** — Evolución diaria (slider por fecha)"
      ]
    },
    {
      "cell_type": "code",
      "metadata": {},
      "execution_count": null,
      "outputs": [],
      "source": [
        "# Para animación, usamos las mediciones diarias tal cual (una por ciudad y día)\n",
        "# Nota: la animación puede ser pesada si hay muchos días; es ideal para exportar como video corto\n",
        "fig_map_anim = px.scatter_geo(\n",
        "    df,\n",
        "    lat=\"lat\", lon=\"lon\",\n",
        "    size=\"pm25\", color=\"pm25\",\n",
        "    hover_name=\"city\",\n",
        "    animation_frame=df[\"date\"].dt.strftime(\"%Y-%m-%d\"),\n",
        "    projection=\"natural earth\",\n",
        "    title=\"PM2.5 diario por ciudad — animación (últimos 90 días)\",\n",
        ")\n",
        "fig_map_anim.update_traces(marker=dict(opacity=0.85))\n",
        "fig_map_anim.update_layout(legend_title_text=\"PM2.5 (µg/m³)\")\n",
        "fig_map_anim.show()\n",
        "\n",
        "# Exportar animado (HTML interactivo con slider)\n",
        "fig_map_anim.write_html(\"../data/mapa_pm25_animado.html\", include_plotlyjs=\"cdn\")\n",
        "print(\"Exportado: ../data/mapa_pm25_animado.html\")"
      ]
    },
    {
      "cell_type": "markdown",
      "metadata": {},
      "source": [
        "## 3) Línea temporal por ciudad + banda OMS"
      ]
    },
    {
      "cell_type": "code",
      "metadata": {},
      "execution_count": null,
      "outputs": [],
      "source": [
        "fig_line = px.line(\n",
        "    df,\n",
        "    x=\"date\", y=\"pm25\", color=\"city\",\n",
        "    labels={\"pm25\":\"PM2.5 (µg/m³)\", \"date\":\"Fecha\"},\n",
        "    title=\"Evolución diaria de PM2.5 (últimos 90 días)\"\n",
        ")\n",
        "\n",
        "# Banda de seguridad OMS (24h ≈ 15 µg/m³): sombreamos de 0 a 15\n",
        "fig_line.add_hrect(y0=0, y1=15, line_width=0, fillcolor=\"LightGreen\", opacity=0.2,\n",
        "                   annotation_text=\"Zona recomendada OMS (≈15 µg/m³)\", annotation_position=\"top left\")\n",
        "\n",
        "fig_line.show()\n",
        "\n",
        "# Exportar HTML\n",
        "fig_line.write_html(\"../data/serie_pm25.html\", include_plotlyjs=\"cdn\")\n",
        "print(\"Exportado: ../data/serie_pm25.html\")"
      ]
    },
    {
      "cell_type": "markdown",
      "metadata": {},
      "source": [
        "## 4) (Opcional) Exportar imágenes estáticas para Instagram"
      ]
    },
    {
      "cell_type": "code",
      "metadata": {},
      "execution_count": null,
      "outputs": [],
      "source": [
        "# Si quieres PNG de alta resolución, instala kaleido:\n",
        "# !pip install -U kaleido\n",
        "#\n",
        "# fig_map.write_image(\"../data/mapa_pm25_promedio.png\", scale=3)\n",
        "# fig_line.write_image(\"../data/serie_pm25.png\", scale=3)\n",
        "# print(\"Exportado: ../data/mapa_pm25_promedio.png y ../data/serie_pm25.png\")"
      ]
    }
  ],
  "metadata": {
    "kernelspec": {
      "display_name": "Python 3",
      "language": "python",
      "name": "python3"
    },
    "language_info": {
      "name": "python",
      "version": "3.x"
    }
  },
  "nbformat": 4,
  "nbformat_minor": 5
}