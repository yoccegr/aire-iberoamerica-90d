{
  "cells": [
    {
      "cell_type": "markdown",
      "metadata": {},
      "source": [
        "# Calidad del aire en Iberoamérica (últimos 90 días)\n",
        "Comparación de **PM2.5** en cinco capitales: Santiago 🇨🇱, Ciudad de México 🇲🇽, Bogotá 🇨🇴, Madrid 🇪🇸 y Brasília 🇧🇷.\n",
        "\n",
        "**Fuente:** [OpenAQ](https://openaq.org) · Este notebook asume que ya ejecutaste `python src/fetch_openaq_pm25.py` para generar `data/pm25_90d.csv`.\n"
      ]
    },
    {
      "cell_type": "code",
      "execution_count": null,
      "metadata": {},
      "outputs": [],
      "source": [
        "import pandas as pd\n",
        "import plotly.express as px\n",
        "\n",
        "df = pd.read_csv('../data/pm25_90d.csv', parse_dates=['date'])\n",
        "df['date'] = pd.to_datetime(df['date'])\n",
        "df.head()"
      ]
    },
    {
      "cell_type": "markdown",
      "metadata": {},
      "source": [
        "## Mapa interactivo (promedio 90 días)\n",
        "El tamaño y el color representan el promedio de PM2.5 por ciudad en el período."
      ]
    },
    {
      "cell_type": "code",
      "execution_count": null,
      "metadata": {},
      "outputs": [],
      "source": [
        "last_mean = (\n",
        "    df.groupby(['country','city'], as_index=False)\n",
        "      .agg(pm25_mean=('pm25','mean'),\n",
        "           lat=('lat','median'),\n",
        "           lon=('lon','median'))\n",
        ")\n",
        "fig_map = px.scatter_geo(\n",
        "    last_mean,\n",
        "    lat='lat', lon='lon',\n",
        "    size='pm25_mean', color='pm25_mean',\n",
        "    hover_name='city',\n",
        "    projection='natural earth',\n",
        "    title='PM2.5 promedio (últimos 90 días) – 5 capitales iberoamericanas',\n",
        ")\n",
        "fig_map.update_traces(marker=dict(opacity=0.85))\n",
        "fig_map.update_layout(legend_title_text='PM2.5 (µg/m³)')\n",
        "fig_map.show()"
      ]
    },
    {
      "cell_type": "markdown",
      "metadata": {},
      "source": [
        "## Evolución diaria por ciudad\n",
        "Se agrega una línea guía con el valor de referencia diario aproximado recomendado por la OMS (15 µg/m³)."
      ]
    },
    {
      "cell_type": "code",
      "execution_count": null,
      "metadata": {},
      "outputs": [],
      "source": [
        "fig_line = px.line(\n",
        "    df,\n",
        "    x='date', y='pm25', color='city',\n",
        "    labels={'pm25':'PM2.5 (µg/m³)', 'date':'Fecha'},\n",
        "    title='Evolución diaria de PM2.5 (últimos 90 días)'\n",
        ")\n",
        "fig_line.add_hline(y=15, line_dash='dash',\n",
        "                   annotation_text='Referencia OMS 24h (~15 µg/m³)',\n",
        "                   annotation_position='top left')\n",
        "fig_line.show()"
      ]
    }
  ],
  "metadata": {
    "kernelspec": {
      "display_name": "Python 3",
      "language": "python",
      "name": "python3"
    },
    "language_info": {
      "name": "python",
      "version": "3.x"
    }
  },
  "nbformat": 4,
  "nbformat_minor": 5
}